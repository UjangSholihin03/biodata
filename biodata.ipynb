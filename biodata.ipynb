{
 "cells": [
  {
   "cell_type": "code",
   "execution_count": 1,
   "id": "a340cff1",
   "metadata": {},
   "outputs": [
    {
     "name": "stdout",
     "output_type": "stream",
     "text": [
      "nama    :  ujang solihin\n",
      "kelas   :  TI 22H\n",
      "jurusan :  teknik informatika\n"
     ]
    }
   ],
   "source": [
    "nama = \"ujang solihin\"\n",
    "kelas = \"TI 22H\"\n",
    "jurusan = \"teknik informatika\"\n",
    "\n",
    "\n",
    "print(\"nama    : \",nama)\n",
    "print(\"kelas   : \",kelas)\n",
    "print(\"jurusan : \",jurusan)\n",
    "\n",
    "\n"
   ]
  },
  {
   "cell_type": "markdown",
   "id": "68330bb2",
   "metadata": {},
   "source": []
  },
  {
   "cell_type": "code",
   "execution_count": null,
   "id": "a739c36b",
   "metadata": {},
   "outputs": [],
   "source": []
  }
 ],
 "metadata": {
  "kernelspec": {
   "display_name": "Python 3 (ipykernel)",
   "language": "python",
   "name": "python3"
  },
  "language_info": {
   "codemirror_mode": {
    "name": "ipython",
    "version": 3
   },
   "file_extension": ".py",
   "mimetype": "text/x-python",
   "name": "python",
   "nbconvert_exporter": "python",
   "pygments_lexer": "ipython3",
   "version": "3.9.12"
  }
 },
 "nbformat": 4,
 "nbformat_minor": 5
}
